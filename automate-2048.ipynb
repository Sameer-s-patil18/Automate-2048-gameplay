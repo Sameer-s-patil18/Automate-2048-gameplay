{
 "cells": [
  {
   "cell_type": "code",
   "execution_count": null,
   "id": "61ea544e",
   "metadata": {},
   "outputs": [],
   "source": [
    "from selenium import webdriver\n",
    "from selenium.webdriver.common.keys import Keys\n",
    "from selenium.webdriver.common.by import By\n",
    "from selenium.webdriver.support.ui import WebDriverWait\n",
    "import time\n",
    "\n",
    "# Setting  up the WebDriver \n",
    "driver = webdriver.Chrome()\n",
    "\n",
    "# Opening  the 2048 game in the browser\n",
    "driver.get(\"https://gabrielecirulli.github.io/2048/\")\n",
    "\n",
    "# Define a function to automate key presses\n",
    "def play_2048():\n",
    "    try:\n",
    "        while True:\n",
    "            game_container = driver.find_element(By.XPATH, \"//div[@class='game-container']\")  # Find the game container element\n",
    "\n",
    "            # Wait until the game container is visible\n",
    "            WebDriverWait(driver, 10).until((By.XPATH, \"//div[@class='game-container']\"))\n",
    "\n",
    "            # Send keys to play the game (up, right, down, left)\n",
    "            actions = [Keys.ARROW_UP, Keys.ARROW_RIGHT, Keys.ARROW_DOWN, Keys.ARROW_LEFT]\n",
    "\n",
    "            for action in actions:\n",
    "                game_container.send_keys(action)\n",
    "                time.sleep(0.5)  # Delay to give the game time to update\n",
    "\n",
    "    except KeyboardInterrupt:\n",
    "        # Press Ctrl+C to stop the program if in terminal \n",
    "        pass\n",
    "\n",
    "# Call the function to start playing\n",
    "play_2048()\n",
    "\n",
    "# Close the browser when done\n",
    "driver.quit()\n"
   ]
  },
  {
   "cell_type": "code",
   "execution_count": null,
   "id": "3267e955",
   "metadata": {},
   "outputs": [],
   "source": []
  }
 ],
 "metadata": {
  "kernelspec": {
   "display_name": "Python 3 (ipykernel)",
   "language": "python",
   "name": "python3"
  },
  "language_info": {
   "codemirror_mode": {
    "name": "ipython",
    "version": 3
   },
   "file_extension": ".py",
   "mimetype": "text/x-python",
   "name": "python",
   "nbconvert_exporter": "python",
   "pygments_lexer": "ipython3",
   "version": "3.9.13"
  }
 },
 "nbformat": 4,
 "nbformat_minor": 5
}
